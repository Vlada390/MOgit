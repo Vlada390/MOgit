{
 "cells": [
  {
   "cell_type": "code",
   "execution_count": 2,
   "metadata": {},
   "outputs": [],
   "source": [
    "# Импортируйте PyTorch и необходимые модули для работы с фреймворком\n",
    "import torch\n",
    "from torch import nn\n",
    "import torch.nn.functional as F\n",
    "from torch.utils.data import DataLoader, TensorDataset\n",
    "from torchvision.transforms import ToTensor\n",
    "from torchvision import datasets\n",
    "import numpy as np\n",
    "import matplotlib.pyplot as plt\n",
    "from sklearn.model_selection import train_test_split\n"
   ]
  },
  {
   "cell_type": "code",
   "execution_count": 3,
   "metadata": {},
   "outputs": [],
   "source": [
    "# Загрузите данные\n",
    "\n",
    "X, Y = np.load(\"X_train.npy\"), np.load(\"Y_train.npy\")\n",
    "X_train, X_val, Y_train, Y_val = train_test_split(X, Y, test_size=0.2, random_state=42)\n",
    "X_test, Y_test = np.load(\"X_test.npy\"), np.load(\"Y_test.npy\")\n",
    "\n",
    "# Создаем объекты TensorDataset\n",
    "train_data = TensorDataset(torch.Tensor(X_train), torch.Tensor(Y_train))\n",
    "val_data = TensorDataset(torch.Tensor(X_val), torch.Tensor(Y_val))\n",
    "test_data = TensorDataset(torch.Tensor(X_test), torch.Tensor(Y_test))\n",
    "\n",
    "# Создайте объекты DataLoader для ваших выборок\n",
    "batch_size = 64\n",
    "\n",
    "train_dataloader =  DataLoader(train_data, batch_size=batch_size)\n",
    "val_dataloader = DataLoader(val_data, batch_size=batch_size)\n",
    "test_dataloader = DataLoader(test_data, batch_size=batch_size)\n"
   ]
  },
  {
   "cell_type": "code",
   "execution_count": 4,
   "metadata": {},
   "outputs": [
    {
     "name": "stdout",
     "output_type": "stream",
     "text": [
      "Ранг тензора: 3\n",
      "Размерность тензора: torch.Size([48000, 28, 28])\n"
     ]
    }
   ],
   "source": [
    "# Напишите ответ какого ранга тензор, содержащий 1 пакет ваших данных и укажите размерности этого тензора\n",
    "\n",
    "for batch in train_dataloader:\n",
    "    images, labels = batch\n",
    "\n",
    "    print(\"Ранг тензора:\", torch.Tensor(X_train).ndim)\n",
    "    print(\"Размерность тензора:\", torch.Tensor(X_train).shape)\n",
    "\n",
    "    break\n"
   ]
  },
  {
   "cell_type": "code",
   "execution_count": 5,
   "metadata": {},
   "outputs": [
    {
     "name": "stdout",
     "output_type": "stream",
     "text": [
      "Используется cpu\n"
     ]
    }
   ],
   "source": [
    "# Код для получения доступных устройств, которые потом можно задействовать при о\n",
    "device = (\n",
    "    \"cuda\"\n",
    "    if torch.cuda.is_available()\n",
    "    else \"mps\"\n",
    "    if torch.backends.mps.is_available()  # Для mps device enables high-performa\n",
    "    else \"cpu\"\n",
    ")\n",
    "print(f\"Используется {device}\")\n"
   ]
  },
  {
   "cell_type": "code",
   "execution_count": 6,
   "metadata": {},
   "outputs": [],
   "source": [
    "# Напишите вашу реализацию NeuralNetwork для нейронной сети\n",
    "# Не забудьте преобразовать ваши данные в одномерный тензор с помощью flatten()\n",
    "\n",
    "# специально делаю плохую модель, чтобы потом её улучшить\n",
    "class NeuralNetwork(nn.Module):\n",
    "    def __init__(self):\n",
    "        super().__init__()\n",
    "        self.flatten = nn.Flatten().to(device)\n",
    "        self.model = nn.Sequential(\n",
    "            nn.Linear(28*28, 512).to(device),\n",
    "            nn.Sigmoid().to(device),\n",
    "            nn.Linear(512, 256).to(device),\n",
    "            nn.Sigmoid().to(device),\n",
    "            nn.Linear(256, 28).to(device),  # всего 28 разных чисел в датасете\n",
    "        )\n",
    "\n",
    "    def forward(self, x):\n",
    "        x = self.flatten(x)\n",
    "        return self.model(x)\n"
   ]
  },
  {
   "cell_type": "code",
   "execution_count": 7,
   "metadata": {},
   "outputs": [
    {
     "name": "stdout",
     "output_type": "stream",
     "text": [
      "NeuralNetwork(\n",
      "  (flatten): Flatten(start_dim=1, end_dim=-1)\n",
      "  (model): Sequential(\n",
      "    (0): Linear(in_features=784, out_features=512, bias=True)\n",
      "    (1): Sigmoid()\n",
      "    (2): Linear(in_features=512, out_features=256, bias=True)\n",
      "    (3): Sigmoid()\n",
      "    (4): Linear(in_features=256, out_features=28, bias=True)\n",
      "  )\n",
      ")\n"
     ]
    }
   ],
   "source": [
    "# Для экземпляра вашей нейронной сети можно использовать метод .to(device), чтоб\n",
    "# Если вы используете .to(device) для модели, то не забудьте батчи и метки тоже\n",
    "\n",
    "model = NeuralNetwork()\n",
    "print(model)\n"
   ]
  },
  {
   "cell_type": "code",
   "execution_count": 8,
   "metadata": {},
   "outputs": [],
   "source": [
    "# попробуйте сперва обучить модель с этими гиперпараметрами\n",
    "learning_rate = 0.001\n",
    "epochs = 5\n",
    "\n",
    "# выбирите функцию потерь для вашей задачи\n",
    "loss_fn = F.cross_entropy\n",
    "\n",
    "# выбирите один из оптимизаторов и укажите подходящие параметры\n",
    "optimizer = torch.optim.Adam(model.parameters(), lr=learning_rate)\n"
   ]
  },
  {
   "cell_type": "code",
   "execution_count": 9,
   "metadata": {},
   "outputs": [],
   "source": [
    "def train_loop(dataloader, model, loss_fn, optimizer):\n",
    "    size = len(dataloader.dataset)\n",
    "    # Переключим модель в режим обучния\n",
    "    model.train()\n",
    "    loss, correct = 0, 0\n",
    "    for batch, (X, y) in enumerate(dataloader):\n",
    "        # Вычислите предсказание, потери и метрики точности\n",
    "        # Сохраните значение потерь и точности для построения графика\n",
    "        pred = model(X)\n",
    "        y = y.long()\n",
    "        loss = loss_fn(pred, y)\n",
    "        # Обратное распространение ошибки\n",
    "        optimizer.zero_grad()\n",
    "        loss.backward()\n",
    "        optimizer.step()\n",
    "\n",
    "        correct += (pred.argmax(dim=-1) == y).type(torch.float).sum().item()\n",
    "\n",
    "        if batch % 100 == 0:\n",
    "            loss, current = loss.item(), (batch + 1) * len(X)\n",
    "            print(f\"loss: {loss:>7f}  [{current:>5d}/{size:>5d}]\")\n",
    "\n",
    "    return loss.item(), correct / size\n",
    "\n",
    "\n",
    "def test_loop(dataloader, model, loss_fn):\n",
    "    # Переключим модель в режим оценки\n",
    "    model.eval()\n",
    "    size = len(dataloader.dataset)\n",
    "    num_batches = len(dataloader)\n",
    "    test_loss, correct = 0, 0\n",
    "    # Оценка модели в контексте torch.no_grad() гарантирует, что в тестовом режи\n",
    "    with torch.no_grad():\n",
    "        for X, y in dataloader:\n",
    "            # Напишите код для расчета предсказаний, потерь и метрики точности\n",
    "            # Сохраните значение потерь и точности для построения графика\n",
    "            pred = model(X)\n",
    "            y = y.long()\n",
    "            test_loss += loss_fn(pred, y).item()\n",
    "            correct += (pred.argmax(dim=-1) == y).type(torch.float).sum().item()\n",
    "\n",
    "    test_loss /= num_batches\n",
    "    correct /= size\n",
    "    print(\n",
    "        f\"Test Error: \\n Accuracy: {(100*correct):>0.1f}%\")\n",
    "\n",
    "    return test_loss, correct\n"
   ]
  },
  {
   "cell_type": "code",
   "execution_count": 10,
   "metadata": {},
   "outputs": [
    {
     "name": "stdout",
     "output_type": "stream",
     "text": [
      "Эпоха 1\n",
      "loss: 3.392489  [   64/48000]\n",
      "loss: 0.596599  [ 6464/48000]\n",
      "loss: 0.120908  [12864/48000]\n",
      "loss: 0.058814  [19264/48000]\n",
      "loss: 0.059619  [25664/48000]\n",
      "loss: 0.074339  [32064/48000]\n",
      "loss: 0.043330  [38464/48000]\n",
      "loss: 0.036314  [44864/48000]\n",
      "Test Error: \n",
      " Accuracy: 99.9%\n",
      "Эпоха 2\n",
      "loss: 0.031355  [   64/48000]\n",
      "loss: 0.030366  [ 6464/48000]\n",
      "loss: 0.024095  [12864/48000]\n",
      "loss: 0.021538  [19264/48000]\n",
      "loss: 0.046450  [25664/48000]\n",
      "loss: 0.014565  [32064/48000]\n",
      "loss: 0.022020  [38464/48000]\n",
      "loss: 0.021894  [44864/48000]\n",
      "Test Error: \n",
      " Accuracy: 98.2%\n",
      "Эпоха 3\n",
      "loss: 0.040167  [   64/48000]\n",
      "loss: 0.045327  [ 6464/48000]\n",
      "loss: 0.029864  [12864/48000]\n",
      "loss: 0.020989  [19264/48000]\n",
      "loss: 0.068864  [25664/48000]\n",
      "loss: 0.054515  [32064/48000]\n",
      "loss: 0.026965  [38464/48000]\n",
      "loss: 0.030874  [44864/48000]\n",
      "Test Error: \n",
      " Accuracy: 99.0%\n",
      "Эпоха 4\n",
      "loss: 0.055634  [   64/48000]\n",
      "loss: 0.028101  [ 6464/48000]\n",
      "loss: 0.015866  [12864/48000]\n",
      "loss: 0.018900  [19264/48000]\n",
      "loss: 0.004055  [25664/48000]\n",
      "loss: 0.004281  [32064/48000]\n",
      "loss: 0.003273  [38464/48000]\n",
      "loss: 0.014389  [44864/48000]\n",
      "Test Error: \n",
      " Accuracy: 99.6%\n",
      "Эпоха 5\n",
      "loss: 0.025818  [   64/48000]\n",
      "loss: 0.026473  [ 6464/48000]\n",
      "loss: 0.053754  [12864/48000]\n",
      "loss: 0.026337  [19264/48000]\n",
      "loss: 0.018449  [25664/48000]\n",
      "loss: 0.015865  [32064/48000]\n",
      "loss: 0.020310  [38464/48000]\n",
      "loss: 0.018488  [44864/48000]\n",
      "Test Error: \n",
      " Accuracy: 99.8%\n"
     ]
    }
   ],
   "source": [
    "train_losses = []\n",
    "train_acc = []\n",
    "test_losses = []\n",
    "test_acc = []\n",
    "for t in range(epochs):\n",
    "    print(f\"Эпоха {t+1}\")\n",
    "    train_loss, train_correct = train_loop(train_dataloader, model, loss_fn, optimizer)\n",
    "    test_loss, test_correct = test_loop(val_dataloader, model, loss_fn)\n",
    "    train_losses.append(train_loss)\n",
    "    train_acc.append(train_correct)\n",
    "    test_losses.append(test_loss)\n",
    "    test_acc.append(test_correct)\n"
   ]
  },
  {
   "cell_type": "code",
   "execution_count": 12,
   "metadata": {},
   "outputs": [
    {
     "data": {
      "text/plain": [
       "<matplotlib.legend.Legend at 0x1de5fcb1d80>"
      ]
     },
     "execution_count": 12,
     "metadata": {},
     "output_type": "execute_result"
    },
    {
     "data": {
      "image/png": "[encoded data removed]",
      "text/plain": [
       "<Figure size 1000x400 with 2 Axes>"
      ]
     },
     "metadata": {},
     "output_type": "display_data"
    }
   ],
   "source": [
    "\n",
    "# Постройте графики потерь и точности на обучающей и валидационной выборках.\n",
    "plt.figure(figsize=(10,4))\n",
    "\n",
    "plt.subplot(1, 2, 1)\n",
    "plt.title('Потери')\n",
    "plt.plot(train_losses, label='Обучающие данные', color='blue', linewidth=2)\n",
    "plt.plot(test_losses, label='Тестовые данные', color='magenta', linewidth=2)\n",
    "plt.legend()\n",
    "\n",
    "plt.subplot(1, 2, 2)\n",
    "plt.title('Точность')\n",
    "plt.plot(train_acc, label='Обучающие данные', color='green', linewidth=2)\n",
    "plt.plot(test_acc, label='Тестовые данные', color='red', linewidth=2)\n",
    "plt.legend()\n",
    "\n"
   ]
  },
  {
   "cell_type": "markdown",
   "metadata": {},
   "source": [
    "## Запуск на тестовой выборке"
   ]
  },
  {
   "cell_type": "code",
   "execution_count": 23,
   "metadata": {},
   "outputs": [
    {
     "name": "stdout",
     "output_type": "stream",
     "text": [
      "Test Error: \n",
      " Accuracy: 99.1%, Avg loss: 0.025978 \n",
      "\n",
      "Точность на тестовой выборке:  0.9914\n"
     ]
    }
   ],
   "source": [
    "test_loss, test_correct = test_loop(test_dataloader, model, loss_fn)\n",
    "\n",
    "test_acc = test_correct\n",
    "print('Точность на тестовой выборке: ', test_acc)\n"
   ]
  }
 ],
 "metadata": {
  "kernelspec": {
   "display_name": "Python 3",
   "language": "python",
   "name": "python3"
  },
  "language_info": {
   "codemirror_mode": {
    "name": "ipython",
    "version": 3
   },
   "file_extension": ".py",
   "mimetype": "text/x-python",
   "name": "python",
   "nbconvert_exporter": "python",
   "pygments_lexer": "ipython3",
   "version": "3.10.0"
  }
 },
 "nbformat": 4,
 "nbformat_minor": 2
}
