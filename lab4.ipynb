{
 "cells": [
  {
   "cell_type": "code",
   "execution_count": 2,
   "metadata": {},
   "outputs": [
    {
     "name": "stdout",
     "output_type": "stream",
     "text": [
      "Epoch 1/8\n",
      "1250/1250 [==============================] - 73s 57ms/step - loss: 1.5372 - accuracy: 0.4373 - val_loss: 1.1266 - val_accuracy: 0.5970\n",
      "Epoch 2/8\n",
      "1250/1250 [==============================] - 71s 57ms/step - loss: 1.1307 - accuracy: 0.5986 - val_loss: 0.9612 - val_accuracy: 0.6586\n",
      "Epoch 3/8\n",
      "1250/1250 [==============================] - 71s 57ms/step - loss: 0.9655 - accuracy: 0.6581 - val_loss: 0.8606 - val_accuracy: 0.6930\n",
      "Epoch 4/8\n",
      "1250/1250 [==============================] - 71s 57ms/step - loss: 0.8733 - accuracy: 0.6897 - val_loss: 0.7899 - val_accuracy: 0.7227\n",
      "Epoch 5/8\n",
      "1250/1250 [==============================] - 73s 58ms/step - loss: 0.8030 - accuracy: 0.7172 - val_loss: 0.7842 - val_accuracy: 0.7259\n",
      "Epoch 6/8\n",
      "1250/1250 [==============================] - 72s 58ms/step - loss: 0.7490 - accuracy: 0.7373 - val_loss: 0.7337 - val_accuracy: 0.7446\n",
      "Epoch 7/8\n",
      "1250/1250 [==============================] - 71s 57ms/step - loss: 0.7015 - accuracy: 0.7547 - val_loss: 0.7107 - val_accuracy: 0.7571\n",
      "Epoch 8/8\n",
      "1250/1250 [==============================] - 72s 58ms/step - loss: 0.6725 - accuracy: 0.7632 - val_loss: 0.7439 - val_accuracy: 0.7452\n"
     ]
    }
   ],
   "source": [
    "from keras.datasets import cifar10\n",
    "import keras\n",
    "from keras.utils import to_categorical \n",
    "from keras.models import Sequential\n",
    "from keras.layers import Dense, Dropout, Flatten, Conv2D, MaxPooling2D\n",
    "\n",
    "\n",
    "(x_train, y_train), (x_test, y_test) = cifar10.load_data()\n",
    "\n",
    "\n",
    "y_train = to_categorical(y_train, 10)\n",
    "y_test = to_categorical(y_test, 10)\n",
    "\n",
    "#Входные данные (пиксели изображений) нормализуются, чтобы значения были в диапазоне от 0 до 1.\n",
    "x_train = x_train / 255\n",
    "x_test = x_test / 255\n",
    "\n",
    "'''\n",
    "Создается последовательная модель нейронной сети с различными слоями, такими как сверточные слои (Conv2D),\n",
    "слои пулинга (MaxPooling2D), слои плоскости (Flatten), полносвязные слои (Dense) и слои исключения (Dropout).\n",
    "'''\n",
    "model = Sequential()\n",
    "\n",
    "#Добавление сверточного слоя: Добавление сверточного слоя с 32 фильтрами размером 3x3, функцией активации ReLU,\n",
    "# защитой от потери граничных пикселей (padding='same'), и указание формы входных данных.\n",
    "model.add(Conv2D(32, (3, 3), activation='relu', padding='same', input_shape=(32,32,3)))\n",
    "model.add(Conv2D(32, (3, 3), activation='relu', padding='same'))\n",
    "#Добавление слоя максимального пулинга размером 2x2.\n",
    "model.add(MaxPooling2D(pool_size=(2, 2)))\n",
    "#Добавление слоя исключения для уменьшения переобучения\n",
    "model.add(Dropout(0.25)) \n",
    "#Еще несколько для увеличения глубины сети\n",
    "model.add(Conv2D(64, (3, 3), activation='relu', padding='same'))\n",
    "model.add(Conv2D(64, (3, 3), activation='relu', padding='same'))\n",
    "model.add(MaxPooling2D(pool_size=(2, 2)))\n",
    "model.add(Dropout(0.25))\n",
    "#Добавление слоя плоскости: преобразование выходов сверточных слоев в одномерный массив.\n",
    "model.add(Flatten())\n",
    "# Добавление полносвязного слоя с 512 нейронами и функцией активации ReLU, а также слой исключения для уменьшения переобучения\n",
    "model.add(Dense(512, activation='relu'))\n",
    "model.add(Dropout(0.5))\n",
    "#Добавление выходного слоя: Выходной слой с 10 нейронами (по числу классов) \n",
    "# и функцией активации softmax для получения вероятностных предсказаний\n",
    "model.add(Dense(10, activation='softmax'))\n",
    "\n",
    "'''\n",
    "Модель компилируется с использованием функции потерь 'categorical_crossentropy',\n",
    "оптимизатора 'adam' и метрикой точности ('accuracy').\n",
    "'''\n",
    "model.compile(loss='categorical_crossentropy', optimizer='adam', metrics=['accuracy'])\n",
    "#Обучение модели на данных обучения в течение 8 эпох, используя размер батча 32\n",
    "#  и разделение данных на обучение и валидацию в соотношении 80:20. \n",
    "# Результаты обучения сохраняются в переменную hist.\n",
    "hist = model.fit(x_train, y_train, batch_size=32, epochs=8, validation_split=0.2)"
   ]
  }
 ],
 "metadata": {
  "kernelspec": {
   "display_name": "Python 3.11.2 64-bit",
   "language": "python",
   "name": "python3"
  },
  "language_info": {
   "codemirror_mode": {
    "name": "ipython",
    "version": 3
   },
   "file_extension": ".py",
   "mimetype": "text/x-python",
   "name": "python",
   "nbconvert_exporter": "python",
   "pygments_lexer": "ipython3",
   "version": "3.11.2"
  },
  "orig_nbformat": 4,
  "vscode": {
   "interpreter": {
    "hash": "8b78903f0bd22972c9af65f57da543bfb5548184fd6e363bd0a91e35f33723c0"
   }
  }
 },
 "nbformat": 4,
 "nbformat_minor": 2
}
